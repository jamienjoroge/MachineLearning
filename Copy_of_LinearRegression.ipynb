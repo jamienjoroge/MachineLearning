{
  "nbformat": 4,
  "nbformat_minor": 0,
  "metadata": {
    "colab": {
      "name": "Copy of LinearRegression.ipynb",
      "provenance": [],
      "include_colab_link": true
    },
    "kernelspec": {
      "name": "python3",
      "display_name": "Python 3"
    }
  },
  "cells": [
    {
      "cell_type": "markdown",
      "metadata": {
        "id": "view-in-github",
        "colab_type": "text"
      },
      "source": [
        "<a href=\"https://colab.research.google.com/github/jamienjoroge/MachineLearning/blob/master/Copy_of_LinearRegression.ipynb\" target=\"_parent\"><img src=\"https://colab.research.google.com/assets/colab-badge.svg\" alt=\"Open In Colab\"/></a>"
      ]
    },
    {
      "cell_type": "code",
      "metadata": {
        "id": "oyd5UDvRy7Dn",
        "colab_type": "code",
        "colab": {}
      },
      "source": [
        "import pandas as pd\n",
        "import math\n",
        "import quandl\n",
        "import numpy as np\n",
        "from sklearn import preprocessing, svm\n",
        "from sklearn.model_selection import cross_validate\n",
        "from sklearn.model_selection import train_test_split\n",
        "from sklearn.linear_model import LinearRegression\n",
        "import datetime\n",
        "import matplotlib.pyplot as plt\n",
        "from matplotlib import style"
      ],
      "execution_count": 0,
      "outputs": []
    },
    {
      "cell_type": "code",
      "metadata": {
        "id": "hOSu5v4yxl3P",
        "colab_type": "code",
        "colab": {}
      },
      "source": [
        "style.use('ggplot')"
      ],
      "execution_count": 0,
      "outputs": []
    },
    {
      "cell_type": "code",
      "metadata": {
        "id": "rpL06aB8zFxc",
        "colab_type": "code",
        "colab": {}
      },
      "source": [
        "df = quandl.get('WIKI/GOOGL', api_key ='bNSuk7inWpKuJbLrWpDc')"
      ],
      "execution_count": 0,
      "outputs": []
    },
    {
      "cell_type": "code",
      "metadata": {
        "id": "SKMUf5pZ8Sh3",
        "colab_type": "code",
        "colab": {}
      },
      "source": [
        "df = df[['Adj. Open', 'Adj. High', 'Adj. Low', 'Adj. Close', 'Adj. Volume']]"
      ],
      "execution_count": 0,
      "outputs": []
    },
    {
      "cell_type": "code",
      "metadata": {
        "id": "hJ0BSwHE97kw",
        "colab_type": "code",
        "colab": {}
      },
      "source": [
        "df['HL_PCT'] = (df['Adj. High'] - df['Adj. Close']) / df['Adj. Close'] * 100.0"
      ],
      "execution_count": 0,
      "outputs": []
    },
    {
      "cell_type": "code",
      "metadata": {
        "id": "A-dpDWn4_gtY",
        "colab_type": "code",
        "colab": {}
      },
      "source": [
        "df['PCT_change'] = (df['Adj. Close'] - df['Adj. Open']) / df['Adj. Open'] * 100.0"
      ],
      "execution_count": 0,
      "outputs": []
    },
    {
      "cell_type": "code",
      "metadata": {
        "id": "TpecCYulAWJO",
        "colab_type": "code",
        "colab": {}
      },
      "source": [
        "df = df[['Adj. Close', 'HL_PCT', 'PCT_change', 'Adj. Volume']]"
      ],
      "execution_count": 0,
      "outputs": []
    },
    {
      "cell_type": "code",
      "metadata": {
        "id": "BXa0Udc6A_pG",
        "colab_type": "code",
        "colab": {}
      },
      "source": [
        "forecast_col = 'Adj. Close'"
      ],
      "execution_count": 0,
      "outputs": []
    },
    {
      "cell_type": "code",
      "metadata": {
        "id": "Af4_unFVBJNf",
        "colab_type": "code",
        "colab": {}
      },
      "source": [
        "df.fillna(-99999, inplace=True)"
      ],
      "execution_count": 0,
      "outputs": []
    },
    {
      "cell_type": "code",
      "metadata": {
        "id": "DIMtiCP0VweI",
        "colab_type": "code",
        "colab": {}
      },
      "source": [
        "forecast_out = int(math.ceil(0.01*len(df)))"
      ],
      "execution_count": 0,
      "outputs": []
    },
    {
      "cell_type": "code",
      "metadata": {
        "id": "-b63OPCBWquE",
        "colab_type": "code",
        "colab": {}
      },
      "source": [
        "df['label'] = df[forecast_col].shift(-forecast_out)"
      ],
      "execution_count": 0,
      "outputs": []
    },
    {
      "cell_type": "code",
      "metadata": {
        "id": "LhmveR3XXxjf",
        "colab_type": "code",
        "colab": {}
      },
      "source": [
        "X = np.array(df.drop(['label'],1))"
      ],
      "execution_count": 0,
      "outputs": []
    },
    {
      "cell_type": "code",
      "metadata": {
        "id": "IcyBSBhbNn2N",
        "colab_type": "code",
        "colab": {}
      },
      "source": [
        "X = preprocessing.scale(X)"
      ],
      "execution_count": 0,
      "outputs": []
    },
    {
      "cell_type": "code",
      "metadata": {
        "id": "0WkGPMeTvBaI",
        "colab_type": "code",
        "colab": {}
      },
      "source": [
        "X =  X[:-forecast_out]"
      ],
      "execution_count": 0,
      "outputs": []
    },
    {
      "cell_type": "code",
      "metadata": {
        "id": "RTUVQN-5vSNz",
        "colab_type": "code",
        "colab": {}
      },
      "source": [
        "X_lately = X[-forecast_out:]"
      ],
      "execution_count": 0,
      "outputs": []
    },
    {
      "cell_type": "code",
      "metadata": {
        "id": "zjbGXyaaXYd1",
        "colab_type": "code",
        "colab": {}
      },
      "source": [
        "df.dropna(inplace=True)"
      ],
      "execution_count": 0,
      "outputs": []
    },
    {
      "cell_type": "code",
      "metadata": {
        "id": "_HiUkInNKYRJ",
        "colab_type": "code",
        "colab": {}
      },
      "source": [
        "y = np.array(df['label'])"
      ],
      "execution_count": 0,
      "outputs": []
    },
    {
      "cell_type": "code",
      "metadata": {
        "id": "hNUOwbD6XPM3",
        "colab_type": "code",
        "colab": {}
      },
      "source": [
        "y = np.array(df['label'])"
      ],
      "execution_count": 0,
      "outputs": []
    },
    {
      "cell_type": "code",
      "metadata": {
        "id": "3m8UX70SXfsW",
        "colab_type": "code",
        "colab": {}
      },
      "source": [
        "X_train, X_test, y_train, y_test =train_test_split(X, y, test_size=0.2)"
      ],
      "execution_count": 0,
      "outputs": []
    },
    {
      "cell_type": "code",
      "metadata": {
        "id": "oWhvvNkGYqcb",
        "colab_type": "code",
        "colab": {}
      },
      "source": [
        "clf = LinearRegression(n_jobs=-1)"
      ],
      "execution_count": 0,
      "outputs": []
    },
    {
      "cell_type": "code",
      "metadata": {
        "id": "00PEvodoa-HR",
        "colab_type": "code",
        "outputId": "373f4d9b-a065-40b1-db75-2cbedcc886d3",
        "colab": {
          "base_uri": "https://localhost:8080/",
          "height": 54
        }
      },
      "source": [
        "clf.fit(X_train, y_train)"
      ],
      "execution_count": 0,
      "outputs": [
        {
          "output_type": "execute_result",
          "data": {
            "text/plain": [
              "LinearRegression(copy_X=True, fit_intercept=True, n_jobs=-1, normalize=False)"
            ]
          },
          "metadata": {
            "tags": []
          },
          "execution_count": 130
        }
      ]
    },
    {
      "cell_type": "code",
      "metadata": {
        "id": "vEsP4ZcqbOnZ",
        "colab_type": "code",
        "colab": {}
      },
      "source": [
        "accuracy = clf.score(X_test, y_test)"
      ],
      "execution_count": 0,
      "outputs": []
    },
    {
      "cell_type": "code",
      "metadata": {
        "id": "dkjMjYIwbVtl",
        "colab_type": "code",
        "colab": {}
      },
      "source": [
        "forecast_set = clf.predict(X_lately)"
      ],
      "execution_count": 0,
      "outputs": []
    },
    {
      "cell_type": "code",
      "metadata": {
        "id": "Qa5Mgw-lbxLR",
        "colab_type": "code",
        "outputId": "4503124d-bf79-404a-d66c-8808685d0e6b",
        "colab": {
          "base_uri": "https://localhost:8080/",
          "height": 159
        }
      },
      "source": [
        "print(forecast_set, accuracy, forecast_out)"
      ],
      "execution_count": 0,
      "outputs": [
        {
          "output_type": "stream",
          "text": [
            "[1076.6658819  1091.27521399 1105.25009848 1099.82251008 1093.32679449\n",
            " 1090.71543771 1089.14678538 1086.10654657 1079.92772316 1075.56911733\n",
            " 1073.27350258 1092.8654687  1111.2299435  1115.61347738 1130.53442572\n",
            " 1134.52928863 1133.12691513 1130.68711446 1132.45184872 1150.91765757\n",
            " 1149.93843761 1160.02881998 1156.5800783  1164.38871116 1184.73390596\n",
            " 1197.01732874 1191.22527661 1203.22920596 1208.76474991 1206.83834881\n",
            " 1197.60877682 1203.1621651  1201.82374322 1137.39016402 1084.26894838] 0.9778194920802854 35\n"
          ],
          "name": "stdout"
        }
      ]
    },
    {
      "cell_type": "code",
      "metadata": {
        "id": "tdh-Eq2Pw_dz",
        "colab_type": "code",
        "colab": {}
      },
      "source": [
        "df['Forecast'] = np.nan"
      ],
      "execution_count": 0,
      "outputs": []
    },
    {
      "cell_type": "code",
      "metadata": {
        "id": "EO_5cPxux6Xx",
        "colab_type": "code",
        "colab": {}
      },
      "source": [
        "last_date = df.iloc[-1].name"
      ],
      "execution_count": 0,
      "outputs": []
    },
    {
      "cell_type": "code",
      "metadata": {
        "id": "fFVRx9JHyPhY",
        "colab_type": "code",
        "colab": {}
      },
      "source": [
        "last_unix = last_date.timestamp()"
      ],
      "execution_count": 0,
      "outputs": []
    },
    {
      "cell_type": "code",
      "metadata": {
        "id": "710t3wDOyU1n",
        "colab_type": "code",
        "colab": {}
      },
      "source": [
        "one_day = 86400"
      ],
      "execution_count": 0,
      "outputs": []
    },
    {
      "cell_type": "code",
      "metadata": {
        "id": "4WMGGSyqyabC",
        "colab_type": "code",
        "colab": {}
      },
      "source": [
        "next_unix = last_unix + one_day"
      ],
      "execution_count": 0,
      "outputs": []
    },
    {
      "cell_type": "code",
      "metadata": {
        "id": "O_L8TaoIy1tP",
        "colab_type": "code",
        "colab": {}
      },
      "source": [
        "for i in forecast_set:\n",
        "  next_date = datetime.datetime.fromtimestamp(next_unix)\n",
        "  next_unix += one_day\n",
        "  df.loc[next_date] = [np.nan for _ in range(len(df.columns)-1)] + [i]\n",
        "  "
      ],
      "execution_count": 0,
      "outputs": []
    },
    {
      "cell_type": "code",
      "metadata": {
        "id": "lEKUOlE84z0A",
        "colab_type": "code",
        "outputId": "4b8d33c6-2086-4dc6-8065-525367d923bd",
        "colab": {
          "base_uri": "https://localhost:8080/",
          "height": 293
        }
      },
      "source": [
        "df['Adj. Close'].plot()"
      ],
      "execution_count": 0,
      "outputs": [
        {
          "output_type": "execute_result",
          "data": {
            "text/plain": [
              "<matplotlib.axes._subplots.AxesSubplot at 0x7f56f3a7d9b0>"
            ]
          },
          "metadata": {
            "tags": []
          },
          "execution_count": 140
        },
        {
          "output_type": "display_data",
          "data": {
            "image/png": "[encoded data removed]",
            "text/plain": [
              "<Figure size 432x288 with 1 Axes>"
            ]
          },
          "metadata": {
            "tags": []
          }
        }
      ]
    },
    {
      "cell_type": "code",
      "metadata": {
        "id": "H_dT8URw476x",
        "colab_type": "code",
        "outputId": "11867d8d-e8b0-40f6-8d89-77dab2fe7597",
        "colab": {
          "base_uri": "https://localhost:8080/",
          "height": 293
        }
      },
      "source": [
        "df['Forecast'].plot()"
      ],
      "execution_count": 0,
      "outputs": [
        {
          "output_type": "execute_result",
          "data": {
            "text/plain": [
              "<matplotlib.axes._subplots.AxesSubplot at 0x7f56efb9da90>"
            ]
          },
          "metadata": {
            "tags": []
          },
          "execution_count": 141
        },
        {
          "output_type": "display_data",
          "data": {
            "image/png": "[encoded data removed]",
            "text/plain": [
              "<Figure size 432x288 with 1 Axes>"
            ]
          },
          "metadata": {
            "tags": []
          }
        }
      ]
    },
    {
      "cell_type": "code",
      "metadata": {
        "id": "7a6RBDw25iqV",
        "colab_type": "code",
        "outputId": "18eb7e78-c62d-47a6-af45-0ac700ea59b7",
        "colab": {
          "base_uri": "https://localhost:8080/",
          "height": 304
        }
      },
      "source": [
        "plt.legend(loc=4)"
      ],
      "execution_count": 0,
      "outputs": [
        {
          "output_type": "stream",
          "text": [
            "No handles with labels found to put in legend.\n"
          ],
          "name": "stderr"
        },
        {
          "output_type": "execute_result",
          "data": {
            "text/plain": [
              "<matplotlib.legend.Legend at 0x7f56efd43ba8>"
            ]
          },
          "metadata": {
            "tags": []
          },
          "execution_count": 142
        },
        {
          "output_type": "display_data",
          "data": {
            "image/png": "[encoded data removed]",
            "text/plain": [
              "<Figure size 432x288 with 1 Axes>"
            ]
          },
          "metadata": {
            "tags": []
          }
        }
      ]
    },
    {
      "cell_type": "code",
      "metadata": {
        "id": "rfGxD4Yj5t3E",
        "colab_type": "code",
        "outputId": "153143df-6178-4fe9-f26b-51201df6a287",
        "colab": {
          "base_uri": "https://localhost:8080/",
          "height": 303
        }
      },
      "source": [
        "plt.xlabel('Date')"
      ],
      "execution_count": 0,
      "outputs": [
        {
          "output_type": "execute_result",
          "data": {
            "text/plain": [
              "Text(0.5, 0, 'Date')"
            ]
          },
          "metadata": {
            "tags": []
          },
          "execution_count": 143
        },
        {
          "output_type": "display_data",
          "data": {
            "image/png": "[encoded data removed]",
            "text/plain": [
              "<Figure size 432x288 with 1 Axes>"
            ]
          },
          "metadata": {
            "tags": []
          }
        }
      ]
    },
    {
      "cell_type": "code",
      "metadata": {
        "id": "qrZfVcmf54LY",
        "colab_type": "code",
        "outputId": "12e34215-1189-4923-cfb7-f2a96553732d",
        "colab": {
          "base_uri": "https://localhost:8080/",
          "height": 286
        }
      },
      "source": [
        "plt.ylabel('Price')"
      ],
      "execution_count": 0,
      "outputs": [
        {
          "output_type": "execute_result",
          "data": {
            "text/plain": [
              "Text(0, 0.5, 'Price')"
            ]
          },
          "metadata": {
            "tags": []
          },
          "execution_count": 144
        },
        {
          "output_type": "display_data",
          "data": {
            "image/png": "[encoded data removed]",
            "text/plain": [
              "<Figure size 432x288 with 1 Axes>"
            ]
          },
          "metadata": {
            "tags": []
          }
        }
      ]
    },
    {
      "cell_type": "code",
      "metadata": {
        "id": "wBX6E26H6AmE",
        "colab_type": "code",
        "colab": {}
      },
      "source": [
        "plt.show()"
      ],
      "execution_count": 0,
      "outputs": []
    },
    {
      "cell_type": "code",
      "metadata": {
        "id": "V3fjDwAY6NLV",
        "colab_type": "code",
        "colab": {}
      },
      "source": [
        ""
      ],
      "execution_count": 0,
      "outputs": []
    }
  ]
}